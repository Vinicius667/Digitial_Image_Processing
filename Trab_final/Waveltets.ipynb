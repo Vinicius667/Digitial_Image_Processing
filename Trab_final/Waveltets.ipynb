{
 "cells": [
  {
   "cell_type": "code",
   "execution_count": 22,
   "id": "1ce64c18",
   "metadata": {},
   "outputs": [],
   "source": [
    "from cv2 import imread\n",
    "from cv2_scripts import imshow\n",
    "#from matplotlib.image import imread\n",
    "import matplotlib.pyplot as plt\n",
    "import matplotlib\n",
    "import numpy as np\n",
    "import pywt\n",
    "from numpy import pi\n",
    "import skimage.io\n",
    "from skimage.metrics import peak_signal_noise_ratio\n",
    "from skimage.util import random_noise\n",
    "from skimage.restoration import denoise_wavelet,estimate_sigma"
   ]
  },
  {
   "cell_type": "code",
   "execution_count": 84,
   "id": "cb78f70d",
   "metadata": {},
   "outputs": [],
   "source": [
    "\"\"def imshow(img):\n",
    "    dpi =75# matplotlib.rcParams['figure.dpi']\n",
    "    height, width = img.shape\n",
    "    figsize = width / float(dpi), height / float(dpi)\n",
    "    plt.figure(figsize=figsize)\n",
    "    plt.imshow(img,cmap=\"gray\")\n",
    "    plt.axis('off')\"\""
   ]
  },
  {
   "cell_type": "code",
   "execution_count": 2,
   "id": "f6cced2d",
   "metadata": {},
   "outputs": [],
   "source": [
    "img = imread(\"./lena_gray_256.TIF\",0)\n",
    "M,N = shape = img.shape\n",
    "imshow(img)"
   ]
  },
  {
   "cell_type": "code",
   "execution_count": 3,
   "id": "d3bd9b4e",
   "metadata": {},
   "outputs": [],
   "source": [
    "noise = np.random.normal(0,1,100)"
   ]
  },
  {
   "cell_type": "code",
   "execution_count": 4,
   "id": "dbf7db7b",
   "metadata": {
    "scrolled": true
   },
   "outputs": [],
   "source": [
    "m,n = np.mgrid[0:M,0:N]"
   ]
  },
  {
   "cell_type": "code",
   "execution_count": 15,
   "id": "7473bca1",
   "metadata": {},
   "outputs": [],
   "source": [
    "k = 30\n",
    "sinxy = (0.5 + 0.5*np.sin(16*pi*m*n/(M*N)))\n",
    "siny = (0.5 + 0.5*np.sin(32*pi*m/(M)))\n",
    "sinxy += 0.5*siny\n",
    "lin_grad = m/M\n",
    "noise = k*np.random.normal(0.45, 0.35 ,shape)"
   ]
  },
  {
   "cell_type": "code",
   "execution_count": 16,
   "id": "c1e11de9",
   "metadata": {},
   "outputs": [],
   "source": [
    "noisy_img = img + sinxy*noise"
   ]
  },
  {
   "cell_type": "code",
   "execution_count": 32,
   "id": "1410cc9b",
   "metadata": {
    "scrolled": true
   },
   "outputs": [],
   "source": [
    "imshow(noisy_img,\"noisy\",save=True)"
   ]
  },
  {
   "cell_type": "code",
   "execution_count": 23,
   "id": "e2c0fb4a",
   "metadata": {},
   "outputs": [
    {
     "data": {
      "text/plain": [
       "9.229914817972663"
      ]
     },
     "execution_count": 23,
     "metadata": {},
     "output_type": "execute_result"
    }
   ],
   "source": [
    "estimate_sigma(noisy_img)"
   ]
  },
  {
   "cell_type": "code",
   "execution_count": 28,
   "id": "47a54c7e",
   "metadata": {
    "scrolled": true
   },
   "outputs": [],
   "source": [
    "denoised_img = denoise_wavelet(noisy_img)"
   ]
  },
  {
   "cell_type": "code",
   "execution_count": 31,
   "id": "e3c559fd",
   "metadata": {},
   "outputs": [],
   "source": [
    "imshow(denoised_img,\"denoised\",save=True)"
   ]
  }
 ],
 "metadata": {
  "kernelspec": {
   "display_name": "Python 3 (ipykernel)",
   "language": "python",
   "name": "python3"
  },
  "language_info": {
   "codemirror_mode": {
    "name": "ipython",
    "version": 3
   },
   "file_extension": ".py",
   "mimetype": "text/x-python",
   "name": "python",
   "nbconvert_exporter": "python",
   "pygments_lexer": "ipython3",
   "version": "3.9.7"
  }
 },
 "nbformat": 4,
 "nbformat_minor": 5
}
