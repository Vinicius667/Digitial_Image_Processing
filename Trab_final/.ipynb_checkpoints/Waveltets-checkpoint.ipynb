{
 "cells": [
  {
   "cell_type": "code",
   "execution_count": 107,
   "id": "1ce64c18",
   "metadata": {},
   "outputs": [],
   "source": [
    "from cv2 import imread\n",
    "from cv2_scripts import imshow\n",
    "#from matplotlib.image import imread\n",
    "import matplotlib.pyplot as plt\n",
    "import matplotlib\n",
    "import numpy as np\n",
    "import pywt\n",
    "from numpy import pi"
   ]
  },
  {
   "cell_type": "code",
   "execution_count": 84,
   "id": "cb78f70d",
   "metadata": {},
   "outputs": [],
   "source": [
    "def imshow(img):\n",
    "    dpi =75# matplotlib.rcParams['figure.dpi']\n",
    "    height, width = img.shape\n",
    "    figsize = width / float(dpi), height / float(dpi)\n",
    "    plt.figure(figsize=figsize)\n",
    "    plt.imshow(img,cmap=\"gray\")\n",
    "    plt.axis('off')"
   ]
  },
  {
   "cell_type": "code",
   "execution_count": 109,
   "id": "f6cced2d",
   "metadata": {},
   "outputs": [],
   "source": [
    "img = imread(\"./lena_gray_256.TIF\",0)\n",
    "M,N = shape = img.shape\n",
    "imshow(img)"
   ]
  },
  {
   "cell_type": "code",
   "execution_count": 110,
   "id": "d3bd9b4e",
   "metadata": {},
   "outputs": [],
   "source": [
    "noise = np.random.normal(0,1,100)"
   ]
  },
  {
   "cell_type": "code",
   "execution_count": 111,
   "id": "dbf7db7b",
   "metadata": {
    "scrolled": true
   },
   "outputs": [],
   "source": [
    "m,n = np.mgrid[0:M,0:N]"
   ]
  },
  {
   "cell_type": "code",
   "execution_count": 112,
   "id": "d871439e",
   "metadata": {},
   "outputs": [],
   "source": [
    "sinxy = (0.5 + 0.5*np.sin(16*pi*m*n/(M*N)))\n",
    "siny = (0.5 + 0.5*np.sin(32*pi*m/(M)))\n",
    "sinxy += 0.5*siny\n",
    "lin_grad = m/M\n",
    "noise = np.random.normal(0.45, 0.35 ,shape)"
   ]
  },
  {
   "cell_type": "code",
   "execution_count": null,
   "id": "320d095d",
   "metadata": {},
   "outputs": [],
   "source": [
    "imshow(img + 20*noise)"
   ]
  },
  {
   "cell_type": "code",
   "execution_count": 118,
   "id": "2b09c7e5",
   "metadata": {
    "scrolled": true
   },
   "outputs": [
    {
     "data": {
      "text/plain": [
       "array([[ 0.07477846,  0.51205558, -0.02679604, ...,  0.54833159,\n",
       "         0.53730004,  0.8474131 ],\n",
       "       [ 0.79733234,  0.66243917,  0.81246498, ...,  0.43272493,\n",
       "         0.32074859,  0.78445776],\n",
       "       [ 0.73301142, -0.11993107,  0.64193908, ...,  0.67590029,\n",
       "        -0.10854159,  0.37550172],\n",
       "       ...,\n",
       "       [ 0.54027877,  0.55827944,  0.09747374, ...,  0.92144071,\n",
       "         0.82228408,  0.39259945],\n",
       "       [-0.10217935,  0.65522522,  0.80918009, ...,  0.25231293,\n",
       "         0.33711714,  0.48804192],\n",
       "       [ 0.38408143,  0.73259867,  0.36196456, ...,  0.93163434,\n",
       "         1.0042728 ,  0.62828034]])"
      ]
     },
     "execution_count": 118,
     "metadata": {},
     "output_type": "execute_result"
    }
   ],
   "source": [
    "noise"
   ]
  }
 ],
 "metadata": {
  "kernelspec": {
   "display_name": "Python 3 (ipykernel)",
   "language": "python",
   "name": "python3"
  },
  "language_info": {
   "codemirror_mode": {
    "name": "ipython",
    "version": 3
   },
   "file_extension": ".py",
   "mimetype": "text/x-python",
   "name": "python",
   "nbconvert_exporter": "python",
   "pygments_lexer": "ipython3",
   "version": "3.9.7"
  }
 },
 "nbformat": 4,
 "nbformat_minor": 5
}
